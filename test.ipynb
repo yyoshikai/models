{
 "cells": [
  {
   "cell_type": "code",
   "execution_count": 2,
   "metadata": {},
   "outputs": [
    {
     "data": {
      "text/plain": [
       "0"
      ]
     },
     "execution_count": 2,
     "metadata": {},
     "output_type": "execute_result"
    }
   ],
   "source": [
    "import sys, os\n",
    "import subprocess\n",
    "\n",
    "process = subprocess.run('git branch', shell=True, capture_output=True, text=True)\n",
    "process.stdout.splitlines()\n",
    "process.returncode"
   ]
  },
  {
   "cell_type": "code",
   "execution_count": 2,
   "metadata": {},
   "outputs": [
    {
     "data": {
      "text/plain": [
       "array([[ 2,  4,  2],\n",
       "       [12, 14, 12],\n",
       "       [22, 24, 22],\n",
       "       [32, 34, 32],\n",
       "       [42, 44, 42],\n",
       "       [52, 54, 52],\n",
       "       [62, 64, 62],\n",
       "       [72, 74, 72],\n",
       "       [82, 84, 82],\n",
       "       [92, 94, 92]])"
      ]
     },
     "execution_count": 2,
     "metadata": {},
     "output_type": "execute_result"
    }
   ],
   "source": [
    "import numpy as np\n",
    "a = np.arange(100).reshape(10, 10)\n",
    "i = np.array([2,4,2])\n",
    "a[(slice(None),)*1+(i, )]"
   ]
  },
  {
   "cell_type": "code",
   "execution_count": null,
   "metadata": {},
   "outputs": [],
   "source": []
  }
 ],
 "metadata": {
  "kernelspec": {
   "display_name": "cu117-2.0.0",
   "language": "python",
   "name": "cu117-2.0.0"
  },
  "language_info": {
   "codemirror_mode": {
    "name": "ipython",
    "version": 3
   },
   "file_extension": ".py",
   "mimetype": "text/x-python",
   "name": "python",
   "nbconvert_exporter": "python",
   "pygments_lexer": "ipython3",
   "version": "3.10.9"
  }
 },
 "nbformat": 4,
 "nbformat_minor": 2
}
